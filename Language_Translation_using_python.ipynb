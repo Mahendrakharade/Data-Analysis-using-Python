{
  "nbformat": 4,
  "nbformat_minor": 0,
  "metadata": {
    "colab": {
      "name": "Language Translation using python",
      "provenance": [],
      "collapsed_sections": [],
      "include_colab_link": true
    },
    "kernelspec": {
      "name": "python3",
      "display_name": "Python 3"
    }
  },
  "cells": [
    {
      "cell_type": "markdown",
      "metadata": {
        "id": "view-in-github",
        "colab_type": "text"
      },
      "source": [
        "<a href=\"https://colab.research.google.com/github/Mahendrakharade/Data-Analysis-using-Python/blob/main/Language_Translation_using_python.ipynb\" target=\"_parent\"><img src=\"https://colab.research.google.com/assets/colab-badge.svg\" alt=\"Open In Colab\"/></a>"
      ]
    },
    {
      "cell_type": "markdown",
      "metadata": {
        "id": "-ou2vBYkq3Q4"
      },
      "source": [
        "# **Language Detection and language Translation in Python**"
      ]
    },
    {
      "cell_type": "markdown",
      "metadata": {
        "id": "HXsGQYQfq98_"
      },
      "source": [
        "**Install required libraries**"
      ]
    },
    {
      "cell_type": "code",
      "metadata": {
        "colab": {
          "base_uri": "https://localhost:8080/"
        },
        "id": "JdfaBpcA9Jox",
        "outputId": "8757d721-8cf7-43ae-d7a5-885ae8a13ea1"
      },
      "source": [
        "! pip install google_trans_new\r\n",
        "from google_trans_new import google_translator  \r\n",
        "translator = google_translator()  \r\n"
      ],
      "execution_count": 35,
      "outputs": [
        {
          "output_type": "stream",
          "text": [
            "Collecting google_trans_new\n",
            "  Downloading https://files.pythonhosted.org/packages/f9/7b/9f136106dc5824dc98185c97991d3cd9b53e70a197154dd49f7b899128f6/google_trans_new-1.1.9-py3-none-any.whl\n",
            "Installing collected packages: google-trans-new\n",
            "Successfully installed google-trans-new-1.1.9\n"
          ],
          "name": "stdout"
        }
      ]
    },
    {
      "cell_type": "markdown",
      "metadata": {
        "id": "Myiw6HYvqz_7"
      },
      "source": [
        "**Create Data Frame**"
      ]
    },
    {
      "cell_type": "code",
      "metadata": {
        "id": "KpnEkiaIiFWw",
        "colab": {
          "base_uri": "https://localhost:8080/",
          "height": 173
        },
        "outputId": "bcb665ff-c237-4fde-f91b-7cd1d7bbb222"
      },
      "source": [
        "x = [['안녕하세요.'], [''], ['veritas lux mea'],['This sentence is written in English']] \n",
        "df=pd.DataFrame(x,columns = ['Text'])\n",
        "df\n"
      ],
      "execution_count": 48,
      "outputs": [
        {
          "output_type": "execute_result",
          "data": {
            "text/html": [
              "<div>\n",
              "<style scoped>\n",
              "    .dataframe tbody tr th:only-of-type {\n",
              "        vertical-align: middle;\n",
              "    }\n",
              "\n",
              "    .dataframe tbody tr th {\n",
              "        vertical-align: top;\n",
              "    }\n",
              "\n",
              "    .dataframe thead th {\n",
              "        text-align: right;\n",
              "    }\n",
              "</style>\n",
              "<table border=\"1\" class=\"dataframe\">\n",
              "  <thead>\n",
              "    <tr style=\"text-align: right;\">\n",
              "      <th></th>\n",
              "      <th>Text</th>\n",
              "    </tr>\n",
              "  </thead>\n",
              "  <tbody>\n",
              "    <tr>\n",
              "      <th>0</th>\n",
              "      <td>안녕하세요.</td>\n",
              "    </tr>\n",
              "    <tr>\n",
              "      <th>1</th>\n",
              "      <td></td>\n",
              "    </tr>\n",
              "    <tr>\n",
              "      <th>2</th>\n",
              "      <td>veritas lux mea</td>\n",
              "    </tr>\n",
              "    <tr>\n",
              "      <th>3</th>\n",
              "      <td>This sentence is written in English</td>\n",
              "    </tr>\n",
              "  </tbody>\n",
              "</table>\n",
              "</div>"
            ],
            "text/plain": [
              "                                  Text\n",
              "0                               안녕하세요.\n",
              "1                                     \n",
              "2                      veritas lux mea\n",
              "3  This sentence is written in English"
            ]
          },
          "metadata": {
            "tags": []
          },
          "execution_count": 48
        }
      ]
    },
    {
      "cell_type": "markdown",
      "metadata": {
        "id": "_CkD0r8B-Xux"
      },
      "source": [
        "**Translate Language into English**"
      ]
    },
    {
      "cell_type": "code",
      "metadata": {
        "colab": {
          "base_uri": "https://localhost:8080/",
          "height": 173
        },
        "id": "WA1G9EiGsXne",
        "outputId": "f2957ff6-c712-4cb5-cc01-11a4a61b9f6a"
      },
      "source": [
        "df['English'] = df['Text'].apply(translator.translate,lang_tgt='en')\r\n",
        "df"
      ],
      "execution_count": 50,
      "outputs": [
        {
          "output_type": "execute_result",
          "data": {
            "text/html": [
              "<div>\n",
              "<style scoped>\n",
              "    .dataframe tbody tr th:only-of-type {\n",
              "        vertical-align: middle;\n",
              "    }\n",
              "\n",
              "    .dataframe tbody tr th {\n",
              "        vertical-align: top;\n",
              "    }\n",
              "\n",
              "    .dataframe thead th {\n",
              "        text-align: right;\n",
              "    }\n",
              "</style>\n",
              "<table border=\"1\" class=\"dataframe\">\n",
              "  <thead>\n",
              "    <tr style=\"text-align: right;\">\n",
              "      <th></th>\n",
              "      <th>Text</th>\n",
              "      <th>English</th>\n",
              "    </tr>\n",
              "  </thead>\n",
              "  <tbody>\n",
              "    <tr>\n",
              "      <th>0</th>\n",
              "      <td>안녕하세요.</td>\n",
              "      <td>Good morning.</td>\n",
              "    </tr>\n",
              "    <tr>\n",
              "      <th>1</th>\n",
              "      <td></td>\n",
              "      <td></td>\n",
              "    </tr>\n",
              "    <tr>\n",
              "      <th>2</th>\n",
              "      <td>veritas lux mea</td>\n",
              "      <td>The truth is my light</td>\n",
              "    </tr>\n",
              "    <tr>\n",
              "      <th>3</th>\n",
              "      <td>This sentence is written in English</td>\n",
              "      <td>This sentence is written in English</td>\n",
              "    </tr>\n",
              "  </tbody>\n",
              "</table>\n",
              "</div>"
            ],
            "text/plain": [
              "                                  Text                               English\n",
              "0                               안녕하세요.                        Good morning. \n",
              "1                                                                           \n",
              "2                      veritas lux mea                The truth is my light \n",
              "3  This sentence is written in English  This sentence is written in English "
            ]
          },
          "metadata": {
            "tags": []
          },
          "execution_count": 50
        }
      ]
    },
    {
      "cell_type": "markdown",
      "metadata": {
        "id": "fs2P4XWZRTrx"
      },
      "source": [
        "**Translate English to Hindi**"
      ]
    },
    {
      "cell_type": "code",
      "metadata": {
        "colab": {
          "base_uri": "https://localhost:8080/",
          "height": 142
        },
        "id": "1svGNBmXQRf0",
        "outputId": "fb46331c-0373-4133-ee2a-6da2e748ee2b"
      },
      "source": [
        "\r\n",
        "d=['How are you doing today', 'Good morning, How are you ','I hope you are doing great']\r\n",
        "df=pd.DataFrame(d,columns = ['Text'])\r\n",
        "df\r\n",
        "df['Hindi'] = df['Text'].apply(translator.translate,lang_tgt='hi')\r\n",
        "df"
      ],
      "execution_count": 57,
      "outputs": [
        {
          "output_type": "execute_result",
          "data": {
            "text/html": [
              "<div>\n",
              "<style scoped>\n",
              "    .dataframe tbody tr th:only-of-type {\n",
              "        vertical-align: middle;\n",
              "    }\n",
              "\n",
              "    .dataframe tbody tr th {\n",
              "        vertical-align: top;\n",
              "    }\n",
              "\n",
              "    .dataframe thead th {\n",
              "        text-align: right;\n",
              "    }\n",
              "</style>\n",
              "<table border=\"1\" class=\"dataframe\">\n",
              "  <thead>\n",
              "    <tr style=\"text-align: right;\">\n",
              "      <th></th>\n",
              "      <th>Text</th>\n",
              "      <th>Hindi</th>\n",
              "    </tr>\n",
              "  </thead>\n",
              "  <tbody>\n",
              "    <tr>\n",
              "      <th>0</th>\n",
              "      <td>How are you doing today</td>\n",
              "      <td>आप आज कैसे हैं</td>\n",
              "    </tr>\n",
              "    <tr>\n",
              "      <th>1</th>\n",
              "      <td>Good morning, How are you</td>\n",
              "      <td>सुप्रभात आप कैसे हैं</td>\n",
              "    </tr>\n",
              "    <tr>\n",
              "      <th>2</th>\n",
              "      <td>I hope you are doing great</td>\n",
              "      <td>मुझे उम्मीद है आप बेहतर होंगे</td>\n",
              "    </tr>\n",
              "  </tbody>\n",
              "</table>\n",
              "</div>"
            ],
            "text/plain": [
              "                         Text                           Hindi\n",
              "0     How are you doing today                 आप आज कैसे हैं \n",
              "1  Good morning, How are you            सुप्रभात आप कैसे हैं \n",
              "2  I hope you are doing great  मुझे उम्मीद है आप बेहतर होंगे "
            ]
          },
          "metadata": {
            "tags": []
          },
          "execution_count": 57
        }
      ]
    }
  ]
}