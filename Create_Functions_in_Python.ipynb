{
  "nbformat": 4,
  "nbformat_minor": 0,
  "metadata": {
    "colab": {
      "name": "Create Functions in Python",
      "provenance": [],
      "collapsed_sections": [],
      "include_colab_link": true
    },
    "kernelspec": {
      "name": "python3",
      "display_name": "Python 3"
    }
  },
  "cells": [
    {
      "cell_type": "markdown",
      "metadata": {
        "id": "view-in-github",
        "colab_type": "text"
      },
      "source": [
        "<a href=\"https://colab.research.google.com/github/Mahendrakharade/Data-Analysis-using-Python/blob/main/Create_Functions_in_Python.ipynb\" target=\"_parent\"><img src=\"https://colab.research.google.com/assets/colab-badge.svg\" alt=\"Open In Colab\"/></a>"
      ]
    },
    {
      "cell_type": "markdown",
      "metadata": {
        "id": "55twdeVroJGb"
      },
      "source": [
        "# **Create Functions in Python**"
      ]
    },
    {
      "cell_type": "markdown",
      "metadata": {
        "id": "q3ip_E4ooTqh"
      },
      "source": [
        "**Check given number is even or odd**"
      ]
    },
    {
      "cell_type": "code",
      "metadata": {
        "id": "Bw1TLB1-LteN",
        "colab": {
          "base_uri": "https://localhost:8080/"
        },
        "outputId": "2780574f-4f9c-44e9-c563-887e0887a941"
      },
      "source": [
        "def even_odd(x):\n",
        "    if (x % 2==0):\n",
        "        print(\"even number\")\n",
        "    else:\n",
        "        print (\"Odd Number\")\n",
        "even_odd(8)\n"
      ],
      "execution_count": null,
      "outputs": [
        {
          "output_type": "stream",
          "text": [
            "even number\n"
          ],
          "name": "stdout"
        }
      ]
    },
    {
      "cell_type": "markdown",
      "metadata": {
        "id": "L0PGP_-goeVb"
      },
      "source": [
        "**Find sum of list**"
      ]
    },
    {
      "cell_type": "code",
      "metadata": {
        "id": "Aary_iIzNJAN",
        "colab": {
          "base_uri": "https://localhost:8080/"
        },
        "outputId": "c881e744-b720-40f5-fc8f-69535e5060ea"
      },
      "source": [
        "\n",
        "def sum(x):\n",
        "    s=0\n",
        "    for i in x:\n",
        "        s=s+i\n",
        "    return s\n",
        "\n",
        "x=[2,5,6]\n",
        "sum(x)"
      ],
      "execution_count": null,
      "outputs": [
        {
          "output_type": "execute_result",
          "data": {
            "text/plain": [
              "13"
            ]
          },
          "metadata": {
            "tags": []
          },
          "execution_count": 10
        }
      ]
    },
    {
      "cell_type": "markdown",
      "metadata": {
        "id": "tcNTlZA9otq2"
      },
      "source": [
        "**Find Average**"
      ]
    },
    {
      "cell_type": "code",
      "metadata": {
        "id": "D1bYvjoP4bLl",
        "colab": {
          "base_uri": "https://localhost:8080/"
        },
        "outputId": "eecb3311-8a22-443a-fba1-2d2ff8a84636"
      },
      "source": [
        "\n",
        "def avg(x):\n",
        "    avg=sum(x)/len(x)\n",
        "    return avg\n",
        " \n",
        "x=[2,5,3]\n",
        "avg(x)"
      ],
      "execution_count": null,
      "outputs": [
        {
          "output_type": "execute_result",
          "data": {
            "text/plain": [
              "3.3333333333333335"
            ]
          },
          "metadata": {
            "tags": []
          },
          "execution_count": 11
        }
      ]
    },
    {
      "cell_type": "markdown",
      "metadata": {
        "id": "2GV0w0Ajozse"
      },
      "source": [
        "**Find Maximum**\r\n",
        "\r\n"
      ]
    },
    {
      "cell_type": "code",
      "metadata": {
        "id": "RPQQAgxxPdTJ",
        "colab": {
          "base_uri": "https://localhost:8080/"
        },
        "outputId": "01bd9520-6625-4e2a-ba3b-454efdd3e251"
      },
      "source": [
        "def max(x):\n",
        "    length=len(x)\n",
        "    x.sort()\n",
        "    print(x[length-1])\n",
        "\n",
        "x=[2,5,3,9]\n",
        "max(x)"
      ],
      "execution_count": null,
      "outputs": [
        {
          "output_type": "stream",
          "text": [
            "9\n"
          ],
          "name": "stdout"
        }
      ]
    },
    {
      "cell_type": "markdown",
      "metadata": {
        "id": "AP2flGw8pEK5"
      },
      "source": [
        "**Find Minimum**"
      ]
    },
    {
      "cell_type": "code",
      "metadata": {
        "id": "4u3jLHhC51ZU",
        "colab": {
          "base_uri": "https://localhost:8080/",
          "height": 34
        },
        "outputId": "e30c6e7b-8f8e-442f-b023-875b2f14c27a"
      },
      "source": [
        "\n",
        "def min(x):\n",
        "    x.sort()\n",
        "    print (x[0])\n",
        "\n",
        "x=[2,5,3,9,1.5]\n",
        "min(x)"
      ],
      "execution_count": null,
      "outputs": [
        {
          "output_type": "stream",
          "text": [
            "1.5\n"
          ],
          "name": "stdout"
        }
      ]
    },
    {
      "cell_type": "markdown",
      "metadata": {
        "id": "gpHIo9E8pNzi"
      },
      "source": [
        "**Lamda Function in Python**"
      ]
    },
    {
      "cell_type": "code",
      "metadata": {
        "id": "eDR8OxLoMWO0",
        "colab": {
          "base_uri": "https://localhost:8080/"
        },
        "outputId": "cbb4a0c1-3706-48a9-feb0-50abe38badd0"
      },
      "source": [
        "f=lambda x:x**2\n",
        "print(f(3))"
      ],
      "execution_count": null,
      "outputs": [
        {
          "output_type": "stream",
          "text": [
            "9\n"
          ],
          "name": "stdout"
        }
      ]
    },
    {
      "cell_type": "markdown",
      "metadata": {
        "id": "S19loe-5pYbK"
      },
      "source": [
        "**Filter function using Lambda**"
      ]
    },
    {
      "cell_type": "code",
      "metadata": {
        "id": "ttdeWKq3OaIY",
        "colab": {
          "base_uri": "https://localhost:8080/"
        },
        "outputId": "e589ad3c-cffb-4382-869b-ff4864d7be6b"
      },
      "source": [
        "s=[3,5,4,6,4,-1,2,4,0]\n",
        "new=list(filter(lambda x: x>0,s))\n",
        "print(new)"
      ],
      "execution_count": null,
      "outputs": [
        {
          "output_type": "stream",
          "text": [
            "[3, 5, 4, 6, 4, 2, 4]\n"
          ],
          "name": "stdout"
        }
      ]
    },
    {
      "cell_type": "markdown",
      "metadata": {
        "id": "Mp7geNkUphhV"
      },
      "source": [
        "**Map function using lambda**\r\n",
        "\r\n",
        "\r\n"
      ]
    },
    {
      "cell_type": "code",
      "metadata": {
        "id": "9871mtrGPBaa",
        "colab": {
          "base_uri": "https://localhost:8080/",
          "height": 34
        },
        "outputId": "1b6c6f0d-cd80-4cba-8f72-bfaa78b9b6bc"
      },
      "source": [
        "\n",
        "s=[3,5,4,6,4,-1,2,4,0]\n",
        "result=list(map(lambda x:x*2,s))\n",
        "print(result)"
      ],
      "execution_count": null,
      "outputs": [
        {
          "output_type": "stream",
          "text": [
            "[6, 10, 8, 12, 8, -2, 4, 8, 0]\n"
          ],
          "name": "stdout"
        }
      ]
    },
    {
      "cell_type": "markdown",
      "metadata": {
        "id": "XrhY_qLkpxKy"
      },
      "source": [
        "**Reduce Function using Lambda**"
      ]
    },
    {
      "cell_type": "code",
      "metadata": {
        "id": "r4i0rElIQx6U",
        "colab": {
          "base_uri": "https://localhost:8080/"
        },
        "outputId": "fd776cc1-6538-4422-f5db-3d5dcf44353a"
      },
      "source": [
        "\n",
        "from functools import reduce\n",
        "s=[3,5,0]\n",
        "result=reduce(lambda x,y:x+y,s)\n",
        "print(result)"
      ],
      "execution_count": null,
      "outputs": [
        {
          "output_type": "stream",
          "text": [
            "8\n"
          ],
          "name": "stdout"
        }
      ]
    }
  ]
}